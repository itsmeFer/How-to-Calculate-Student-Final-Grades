{
 "cells": [
  {
   "cell_type": "code",
   "execution_count": 1,
   "id": "dc15d090-1b5f-4f56-8479-fdbd227d3d66",
   "metadata": {},
   "outputs": [
    {
     "name": "stdin",
     "output_type": "stream",
     "text": [
      "Nama :  Ferdinand\n",
      "Nim :  223303030414\n",
      "N.Absensi :  40\n",
      "N.Tugas :  40\n",
      "N.UTS :  100\n",
      "N.Uas :  90\n"
     ]
    },
    {
     "name": "stdout",
     "output_type": "stream",
     "text": [
      "\n",
      "Program Hitung Nilai Akhir\n",
      "-----------------------------\n",
      "Nama : Ferdinand\n",
      "Nim : 223303030414\n",
      "N.Absensi : 40.0\n",
      "N.Tugas : 40.0\n",
      "N.UTS : 100.0\n",
      "N.Uas : 90.0\n",
      "N.Akhir : 81.0\n",
      "Keterangan : lulus\n"
     ]
    }
   ],
   "source": [
    "# Program Hitung Nilai Akhir\n",
    "#Ferdinand Sianturi_223303030414\n",
    "# Input data mahasiswa\n",
    "nama = input(\"Nama : \")\n",
    "nim = input(\"Nim : \")\n",
    "n_absensi = float(input(\"N.Absensi : \"))\n",
    "n_tugas = float(input(\"N.Tugas : \"))\n",
    "n_uts = float(input(\"N.UTS : \"))\n",
    "n_uas = float(input(\"N.Uas : \"))\n",
    "\n",
    "# Menghitung nilai akhir berdasarkan ketentuan\n",
    "n_akhir = (n_absensi * 0.10) + (n_tugas * 0.15) + (n_uts * 0.35) + (n_uas * 0.40)\n",
    "\n",
    "# Menentukan keterangan lulus atau tidak lulus\n",
    "if n_akhir < 50:\n",
    "    keterangan = \"tidak lulus\"\n",
    "else:\n",
    "    keterangan = \"lulus\"\n",
    "\n",
    "# Menampilkan hasil\n",
    "print(\"\\nProgram Hitung Nilai Akhir\")\n",
    "print(\"-----------------------------\")\n",
    "print(f\"Nama : {nama}\")\n",
    "print(f\"Nim : {nim}\")\n",
    "print(f\"N.Absensi : {n_absensi}\")\n",
    "print(f\"N.Tugas : {n_tugas}\")\n",
    "print(f\"N.UTS : {n_uts}\")\n",
    "print(f\"N.Uas : {n_uas}\")\n",
    "print(f\"N.Akhir : {n_akhir}\")\n",
    "print(f\"Keterangan : {keterangan}\")"
   ]
  },
  {
   "cell_type": "code",
   "execution_count": null,
   "id": "69adbd20-d8e3-4209-a8fa-8b72647bda6d",
   "metadata": {},
   "outputs": [],
   "source": []
  }
 ],
 "metadata": {
  "kernelspec": {
   "display_name": "Python 3 (ipykernel)",
   "language": "python",
   "name": "python3"
  },
  "language_info": {
   "codemirror_mode": {
    "name": "ipython",
    "version": 3
   },
   "file_extension": ".py",
   "mimetype": "text/x-python",
   "name": "python",
   "nbconvert_exporter": "python",
   "pygments_lexer": "ipython3",
   "version": "3.11.7"
  }
 },
 "nbformat": 4,
 "nbformat_minor": 5
}
